{
 "cells": [
  {
   "cell_type": "code",
   "execution_count": 8,
   "metadata": {
    "collapsed": true
   },
   "outputs": [],
   "source": [
    "var1 = 50"
   ]
  },
  {
   "cell_type": "code",
   "execution_count": 9,
   "metadata": {},
   "outputs": [],
   "source": [
    "#!/usr/bin/env python\n",
    "#モジュールインポート\n",
    "   \n",
    "import numpy as np\n",
    "import matplotlib\n",
    "matplotlib.use('Agg')\n",
    "import matplotlib.pyplot as plt\n",
    "\n",
    "from matplotlib.projections.polar import PolarAxes as pa\n",
    "from matplotlib.projections import register_projection as rp\n",
    "from pylab import *\n",
    "from PIL import Image\n",
    "\n",
    "# 色変え設定\n",
    "if var1 >= 123 : color = 'r'\n",
    "else : color = 'b' \n",
    "\n",
    "# グラフテンプレート作成\n",
    "class RadarAxes(PolarAxes):\n",
    "    \"\"\"Class for creating a radar chart (a.k.a. a spider or star chart)        \n",
    "    http://en.wikipedia.org/wiki/Radar_chart\n",
    "    \"\"\"\n",
    "    name = 'radar'\n",
    "    # use 1 line segment to connect specified points\n",
    "    RESOLUTION = 1\n",
    "\n",
    "    def draw_frame(self, x0, y0, r):\n",
    "        verts = [(r*cos(t) + x0, r*sin(t) + y0) for t in theta]\n",
    "        return Polygon(verts, closed=True)\n",
    "\n",
    "    def set_varlabels(self, labels):\n",
    "        self.set_thetagrids(theta * 180/pi, labels)\n",
    "\n",
    "    def get_axes_patch(self):\n",
    "        x0, y0 = (0.5, 0.5)\n",
    "        r = 0.5\n",
    "        return self.draw_frame(x0, y0, r)\n",
    "    \n",
    "\n",
    "if __name__ == '__main__':\n",
    "\n",
    "    rp(RadarAxes)\n",
    "    \n",
    "  # 要素数\n",
    "    N = 4\n",
    "  # 図表の傾き\n",
    "    theta = 2*pi * linspace(0, 1, N+1)[:-1]\n",
    "    theta += pi/2\n",
    "  # ラベル\n",
    "    labels = ['Anger', 'Joy', 'Hapiness', 'Sad']\n",
    "  # MAX値（分母）\n",
    "    rule_of_four = [160, 100, 100, 100]\n",
    "  # 測定値\n",
    "    desc = [var1, 45, 60, 50]   #  ←！！！！ここの一番左に測定値を代入！！！！\n",
    "    \n",
    "  # グラフ描写\n",
    "    fig = plt.figure(figsize=(2.4,2.2)) # サイズ設定\n",
    "    desc_rate = [100*desc[i]/float(v) for (i,v) in enumerate(rule_of_four)]\n",
    "    ax = subplot(111, projection='radar')\n",
    "    # ax.plot(theta, desc_rate, color='black') # 輪郭\n",
    "    ax.fill(theta, desc_rate, facecolor=color)\n",
    "    \n",
    "    for patch in ax.patches:\n",
    "        patch.set_alpha(0.5)\n",
    "\n",
    "  # ％ラベル刻み設定\n",
    "    ax.set_varlabels(labels)\n",
    "    rgrids((50,75,100))\n",
    "\n",
    "    grid(True)\n",
    "    \n",
    "  # png保存\n",
    "    plt.savefig('rc_graph.png') \n",
    " \n",
    "  # jpeg変換\n",
    "    img = Image.open('rc_graph.png')\n",
    "    rgb_im = img.convert('RGB')\n",
    "    rgb_im.save('rc_graph.jpg','JPEG')\n",
    "    \n",
    "plt.close()\n",
    "   \n"
   ]
  },
  {
   "cell_type": "code",
   "execution_count": null,
   "metadata": {},
   "outputs": [],
   "source": [
    "print(var1)"
   ]
  },
  {
   "cell_type": "code",
   "execution_count": 5,
   "metadata": {},
   "outputs": [],
   "source": [
    "if var1 >= 123 : color = 'r'\n",
    "else : color = 'b' "
   ]
  },
  {
   "cell_type": "code",
   "execution_count": null,
   "metadata": {
    "collapsed": true
   },
   "outputs": [],
   "source": []
  }
 ],
 "metadata": {
  "kernelspec": {
   "display_name": "Python 3",
   "language": "python",
   "name": "python3"
  },
  "language_info": {
   "codemirror_mode": {
    "name": "ipython",
    "version": 3
   },
   "file_extension": ".py",
   "mimetype": "text/x-python",
   "name": "python",
   "nbconvert_exporter": "python",
   "pygments_lexer": "ipython3",
   "version": "3.6.3"
  }
 },
 "nbformat": 4,
 "nbformat_minor": 2
}
