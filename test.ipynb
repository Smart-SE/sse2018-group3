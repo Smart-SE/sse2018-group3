{
 "cells": [
  {
   "cell_type": "code",
   "execution_count": 37,
   "metadata": {},
   "outputs": [],
   "source": [
    "#モジュールインポート\n",
    "# coding: shift_jis\n",
    "import numpy as np\n",
    "import matplotlib\n",
    "matplotlib.use('Agg') # -----(1)\n",
    "from datetime import datetime\n",
    "import matplotlib.pyplot as plt"
   ]
  },
  {
   "cell_type": "code",
   "execution_count": 38,
   "metadata": {},
   "outputs": [],
   "source": [
    "#表示データ作成\n",
    "    x = []\n",
    "    y1 = []\n",
    "    y2 = []\n",
    "    i = 0\n",
    "\n",
    "while True:\n",
    "    i = 20\n",
    "    x.append(datetime.now().strftime(\"%Y/%m/%d %H:%M:%S\"))\n",
    "    y1.append(i)\n",
    "    y2.append(i)\n",
    "    \n",
    "    #y1.append(XXX) 配列にデータ追加\n",
    "    #x = np.array([1,2,3,4,5])\n",
    "    #y1 = np.array([100,500,100,100,400])\n",
    "    #y2 = np.array([150,200,250,300,400])"
   ]
  },
  {
   "cell_type": "code",
   "execution_count": 39,
   "metadata": {},
   "outputs": [],
   "source": [
    "# figure\n",
    "fig = plt.figure()\n",
    "ax = fig.add_subplot(1, 1, 1)"
   ]
  },
  {
   "cell_type": "code",
   "execution_count": 40,
   "metadata": {},
   "outputs": [
    {
     "data": {
      "text/plain": [
       "[<matplotlib.lines.Line2D at 0x27a5eb73b00>]"
      ]
     },
     "execution_count": 40,
     "metadata": {},
     "output_type": "execute_result"
    }
   ],
   "source": [
    "# plot\n",
    "ax.plot(x, y1, linestyle='--', color='b', label='怒り')\n",
    "ax.plot(x, y2, linestyle='-', color='#e46409', label='悲しみ')"
   ]
  },
  {
   "cell_type": "code",
   "execution_count": 41,
   "metadata": {},
   "outputs": [
    {
     "data": {
      "text/plain": [
       "Text(0,0.5,'y')"
      ]
     },
     "execution_count": 41,
     "metadata": {},
     "output_type": "execute_result"
    }
   ],
   "source": [
    "# x axis\n",
    "#plt.xlim([-np.pi, np.pi])\n",
    "plt.xlim([1 , 5])\n",
    "ax.set_xticks([1, 2, 3, 4, 5])\n",
    "ax.set_xticklabels(['-pi', '-pi/2', '0', 'pi/2', 'pi'])\n",
    "ax.set_xlabel('x')\n",
    "\n",
    "# y axis\n",
    "plt.ylim([-1.2, 1.2])\n",
    "ax.set_yticks([50, 100, 150, 200, 250, 300, 350, 400, 450, 500])\n",
    "ax.set_ylabel('y')"
   ]
  },
  {
   "cell_type": "code",
   "execution_count": 42,
   "metadata": {},
   "outputs": [],
   "source": [
    "# legend and title\n",
    "ax.legend(loc='best')\n",
    "ax.set_title('Plot of sine and cosine')\n",
    "\n",
    "# save as png\n",
    "plt.savefig('figure.png') # -----(2)"
   ]
  }
 ],
 "metadata": {
  "kernelspec": {
   "display_name": "Python 3",
   "language": "python",
   "name": "python3"
  },
  "language_info": {
   "codemirror_mode": {
    "name": "ipython",
    "version": 3
   },
   "file_extension": ".py",
   "mimetype": "text/x-python",
   "name": "python",
   "nbconvert_exporter": "python",
   "pygments_lexer": "ipython3",
   "version": "3.6.6"
  }
 },
 "nbformat": 4,
 "nbformat_minor": 2
}
